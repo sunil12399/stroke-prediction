{
 "cells": [
  {
   "cell_type": "code",
   "execution_count": 1,
   "metadata": {
    "execution": {
     "iopub.execute_input": "2022-06-22T06:45:31.266118Z",
     "iopub.status.busy": "2022-06-22T06:45:31.265708Z",
     "iopub.status.idle": "2022-06-22T06:45:31.775117Z",
     "shell.execute_reply": "2022-06-22T06:45:31.774180Z",
     "shell.execute_reply.started": "2022-06-22T06:45:31.266030Z"
    }
   },
   "outputs": [
    {
     "data": {
      "text/plain": [
       "'1.0.2'"
      ]
     },
     "execution_count": 1,
     "metadata": {},
     "output_type": "execute_result"
    }
   ],
   "source": [
    "import sklearn\n",
    "sklearn.__version__"
   ]
  },
  {
   "cell_type": "code",
   "execution_count": 2,
   "metadata": {
    "execution": {
     "iopub.status.busy": "2022-06-22T06:44:09.904828Z",
     "iopub.status.idle": "2022-06-22T06:44:09.911298Z",
     "shell.execute_reply": "2022-06-22T06:44:09.910951Z",
     "shell.execute_reply.started": "2022-06-22T06:44:09.910908Z"
    }
   },
   "outputs": [],
   "source": [
    "from sklearn.preprocessing import OneHotEncoder, StandardScaler\n",
    "from sklearn.model_selection import train_test_split, cross_validate\n",
    "from sklearn.ensemble import HistGradientBoostingClassifier\n",
    "from sklearn.metrics import balanced_accuracy_score\n",
    "from sklearn.linear_model import LogisticRegression\n",
    "from sklearn.ensemble import RandomForestClassifier\n",
    "from sklearn.tree import DecisionTreeClassifier\n",
    "from sklearn.metrics import confusion_matrix, accuracy_score, log_loss\n",
    "from sklearn.feature_selection import mutual_info_classif"
   ]
  },
  {
   "cell_type": "code",
   "execution_count": 3,
   "metadata": {
    "execution": {
     "iopub.status.busy": "2022-06-22T06:44:09.935125Z",
     "iopub.status.idle": "2022-06-22T06:44:09.935970Z",
     "shell.execute_reply": "2022-06-22T06:44:09.935508Z",
     "shell.execute_reply.started": "2022-06-22T06:44:09.935475Z"
    }
   },
   "outputs": [],
   "source": [
    "def scores_print(y_true, predictions):\n",
    "    print(f'accuracy = {accuracy_score(y_true, predictions)}')\n",
    "    print(f'Cross-entropy = {log_loss(y_true, predictions)}')\n",
    "    print(f'Confusion_matrix = \\n{confusion_matrix(y_true, predictions)}')"
   ]
  },
  {
   "cell_type": "code",
   "execution_count": 4,
   "metadata": {
    "_cell_guid": "b1076dfc-b9ad-4769-8c92-a6c4dae69d19",
    "_uuid": "8f2839f25d086af736a60e9eeb907d3b93b6e0e5",
    "execution": {
     "iopub.status.busy": "2022-06-22T06:44:09.937179Z",
     "iopub.status.idle": "2022-06-22T06:44:09.937786Z",
     "shell.execute_reply": "2022-06-22T06:44:09.937493Z",
     "shell.execute_reply.started": "2022-06-22T06:44:09.937465Z"
    }
   },
   "outputs": [],
   "source": [
    "# This Python 3 environment comes with many helpful analytics libraries installed\n",
    "# It is defined by the kaggle/python Docker image: https://github.com/kaggle/docker-python\n",
    "# For example, here's several helpful packages to load\n",
    "\n",
    "import numpy as np # linear algebra\n",
    "import pandas as pd # data processing, CSV file I/O (e.g. pd.read_csv)\n",
    "\n",
    "# Input data files are available in the read-only \"../input/\" directory\n",
    "# For example, running this (by clicking run or pressing Shift+Enter) will list all files under the input directory\n",
    "\n",
    "import os\n",
    "for dirname, _, filenames in os.walk('/kaggle/input'):\n",
    "    for filename in filenames:\n",
    "        print(os.path.join(dirname, filename))\n",
    "\n",
    "# You can write up to 20GB to the current directory (/kaggle/working/) that gets preserved as output when you create a version using \"Save & Run All\" \n",
    "# You can also write temporary files to /kaggle/temp/, but they won't be saved outside of the current session"
   ]
  },
  {
   "cell_type": "code",
   "execution_count": 5,
   "metadata": {
    "execution": {
     "iopub.status.busy": "2022-06-22T06:44:09.939132Z",
     "iopub.status.idle": "2022-06-22T06:44:09.941498Z",
     "shell.execute_reply": "2022-06-22T06:44:09.941200Z",
     "shell.execute_reply.started": "2022-06-22T06:44:09.941162Z"
    }
   },
   "outputs": [],
   "source": [
    "path = \"healthcare-dataset-stroke-data.csv\""
   ]
  },
  {
   "cell_type": "code",
   "execution_count": 6,
   "metadata": {
    "execution": {
     "iopub.status.busy": "2022-06-22T06:44:09.946821Z",
     "iopub.status.idle": "2022-06-22T06:44:09.947644Z",
     "shell.execute_reply": "2022-06-22T06:44:09.947384Z",
     "shell.execute_reply.started": "2022-06-22T06:44:09.947355Z"
    }
   },
   "outputs": [
    {
     "data": {
      "text/html": [
       "<div>\n",
       "<style scoped>\n",
       "    .dataframe tbody tr th:only-of-type {\n",
       "        vertical-align: middle;\n",
       "    }\n",
       "\n",
       "    .dataframe tbody tr th {\n",
       "        vertical-align: top;\n",
       "    }\n",
       "\n",
       "    .dataframe thead th {\n",
       "        text-align: right;\n",
       "    }\n",
       "</style>\n",
       "<table border=\"1\" class=\"dataframe\">\n",
       "  <thead>\n",
       "    <tr style=\"text-align: right;\">\n",
       "      <th></th>\n",
       "      <th>id</th>\n",
       "      <th>gender</th>\n",
       "      <th>age</th>\n",
       "      <th>hypertension</th>\n",
       "      <th>heart_disease</th>\n",
       "      <th>ever_married</th>\n",
       "      <th>work_type</th>\n",
       "      <th>Residence_type</th>\n",
       "      <th>avg_glucose_level</th>\n",
       "      <th>bmi</th>\n",
       "      <th>smoking_status</th>\n",
       "      <th>stroke</th>\n",
       "    </tr>\n",
       "  </thead>\n",
       "  <tbody>\n",
       "    <tr>\n",
       "      <th>0</th>\n",
       "      <td>9046</td>\n",
       "      <td>Male</td>\n",
       "      <td>67.0</td>\n",
       "      <td>0</td>\n",
       "      <td>1</td>\n",
       "      <td>Yes</td>\n",
       "      <td>Private</td>\n",
       "      <td>Urban</td>\n",
       "      <td>228.69</td>\n",
       "      <td>36.6</td>\n",
       "      <td>formerly smoked</td>\n",
       "      <td>1</td>\n",
       "    </tr>\n",
       "    <tr>\n",
       "      <th>1</th>\n",
       "      <td>51676</td>\n",
       "      <td>Female</td>\n",
       "      <td>61.0</td>\n",
       "      <td>0</td>\n",
       "      <td>0</td>\n",
       "      <td>Yes</td>\n",
       "      <td>Self-employed</td>\n",
       "      <td>Rural</td>\n",
       "      <td>202.21</td>\n",
       "      <td>NaN</td>\n",
       "      <td>never smoked</td>\n",
       "      <td>1</td>\n",
       "    </tr>\n",
       "    <tr>\n",
       "      <th>2</th>\n",
       "      <td>31112</td>\n",
       "      <td>Male</td>\n",
       "      <td>80.0</td>\n",
       "      <td>0</td>\n",
       "      <td>1</td>\n",
       "      <td>Yes</td>\n",
       "      <td>Private</td>\n",
       "      <td>Rural</td>\n",
       "      <td>105.92</td>\n",
       "      <td>32.5</td>\n",
       "      <td>never smoked</td>\n",
       "      <td>1</td>\n",
       "    </tr>\n",
       "    <tr>\n",
       "      <th>3</th>\n",
       "      <td>60182</td>\n",
       "      <td>Female</td>\n",
       "      <td>49.0</td>\n",
       "      <td>0</td>\n",
       "      <td>0</td>\n",
       "      <td>Yes</td>\n",
       "      <td>Private</td>\n",
       "      <td>Urban</td>\n",
       "      <td>171.23</td>\n",
       "      <td>34.4</td>\n",
       "      <td>smokes</td>\n",
       "      <td>1</td>\n",
       "    </tr>\n",
       "    <tr>\n",
       "      <th>4</th>\n",
       "      <td>1665</td>\n",
       "      <td>Female</td>\n",
       "      <td>79.0</td>\n",
       "      <td>1</td>\n",
       "      <td>0</td>\n",
       "      <td>Yes</td>\n",
       "      <td>Self-employed</td>\n",
       "      <td>Rural</td>\n",
       "      <td>174.12</td>\n",
       "      <td>24.0</td>\n",
       "      <td>never smoked</td>\n",
       "      <td>1</td>\n",
       "    </tr>\n",
       "  </tbody>\n",
       "</table>\n",
       "</div>"
      ],
      "text/plain": [
       "      id  gender   age  hypertension  heart_disease ever_married  \\\n",
       "0   9046    Male  67.0             0              1          Yes   \n",
       "1  51676  Female  61.0             0              0          Yes   \n",
       "2  31112    Male  80.0             0              1          Yes   \n",
       "3  60182  Female  49.0             0              0          Yes   \n",
       "4   1665  Female  79.0             1              0          Yes   \n",
       "\n",
       "       work_type Residence_type  avg_glucose_level   bmi   smoking_status  \\\n",
       "0        Private          Urban             228.69  36.6  formerly smoked   \n",
       "1  Self-employed          Rural             202.21   NaN     never smoked   \n",
       "2        Private          Rural             105.92  32.5     never smoked   \n",
       "3        Private          Urban             171.23  34.4           smokes   \n",
       "4  Self-employed          Rural             174.12  24.0     never smoked   \n",
       "\n",
       "   stroke  \n",
       "0       1  \n",
       "1       1  \n",
       "2       1  \n",
       "3       1  \n",
       "4       1  "
      ]
     },
     "execution_count": 6,
     "metadata": {},
     "output_type": "execute_result"
    }
   ],
   "source": [
    "df = pd.read_csv(path)\n",
    "df.head()"
   ]
  },
  {
   "cell_type": "code",
   "execution_count": 7,
   "metadata": {
    "execution": {
     "iopub.status.busy": "2022-06-22T06:44:09.949147Z",
     "iopub.status.idle": "2022-06-22T06:44:09.949940Z",
     "shell.execute_reply": "2022-06-22T06:44:09.949674Z",
     "shell.execute_reply.started": "2022-06-22T06:44:09.949635Z"
    }
   },
   "outputs": [
    {
     "name": "stdout",
     "output_type": "stream",
     "text": [
      "<class 'pandas.core.frame.DataFrame'>\n",
      "RangeIndex: 5110 entries, 0 to 5109\n",
      "Data columns (total 12 columns):\n",
      " #   Column             Non-Null Count  Dtype  \n",
      "---  ------             --------------  -----  \n",
      " 0   id                 5110 non-null   int64  \n",
      " 1   gender             5110 non-null   object \n",
      " 2   age                5110 non-null   float64\n",
      " 3   hypertension       5110 non-null   int64  \n",
      " 4   heart_disease      5110 non-null   int64  \n",
      " 5   ever_married       5110 non-null   object \n",
      " 6   work_type          5110 non-null   object \n",
      " 7   Residence_type     5110 non-null   object \n",
      " 8   avg_glucose_level  5110 non-null   float64\n",
      " 9   bmi                4909 non-null   float64\n",
      " 10  smoking_status     5110 non-null   object \n",
      " 11  stroke             5110 non-null   int64  \n",
      "dtypes: float64(3), int64(4), object(5)\n",
      "memory usage: 479.2+ KB\n"
     ]
    }
   ],
   "source": [
    "df.info()"
   ]
  },
  {
   "cell_type": "code",
   "execution_count": 8,
   "metadata": {
    "execution": {
     "iopub.status.busy": "2022-06-22T06:44:09.951346Z",
     "iopub.status.idle": "2022-06-22T06:44:09.952107Z",
     "shell.execute_reply": "2022-06-22T06:44:09.951870Z",
     "shell.execute_reply.started": "2022-06-22T06:44:09.951840Z"
    }
   },
   "outputs": [
    {
     "data": {
      "text/html": [
       "<div>\n",
       "<style scoped>\n",
       "    .dataframe tbody tr th:only-of-type {\n",
       "        vertical-align: middle;\n",
       "    }\n",
       "\n",
       "    .dataframe tbody tr th {\n",
       "        vertical-align: top;\n",
       "    }\n",
       "\n",
       "    .dataframe thead th {\n",
       "        text-align: right;\n",
       "    }\n",
       "</style>\n",
       "<table border=\"1\" class=\"dataframe\">\n",
       "  <thead>\n",
       "    <tr style=\"text-align: right;\">\n",
       "      <th></th>\n",
       "      <th>id</th>\n",
       "      <th>age</th>\n",
       "      <th>hypertension</th>\n",
       "      <th>heart_disease</th>\n",
       "      <th>avg_glucose_level</th>\n",
       "      <th>bmi</th>\n",
       "      <th>stroke</th>\n",
       "    </tr>\n",
       "  </thead>\n",
       "  <tbody>\n",
       "    <tr>\n",
       "      <th>count</th>\n",
       "      <td>5110.000000</td>\n",
       "      <td>5110.000000</td>\n",
       "      <td>5110.000000</td>\n",
       "      <td>5110.000000</td>\n",
       "      <td>5110.000000</td>\n",
       "      <td>4909.000000</td>\n",
       "      <td>5110.000000</td>\n",
       "    </tr>\n",
       "    <tr>\n",
       "      <th>mean</th>\n",
       "      <td>36517.829354</td>\n",
       "      <td>43.226614</td>\n",
       "      <td>0.097456</td>\n",
       "      <td>0.054012</td>\n",
       "      <td>106.147677</td>\n",
       "      <td>28.893237</td>\n",
       "      <td>0.048728</td>\n",
       "    </tr>\n",
       "    <tr>\n",
       "      <th>std</th>\n",
       "      <td>21161.721625</td>\n",
       "      <td>22.612647</td>\n",
       "      <td>0.296607</td>\n",
       "      <td>0.226063</td>\n",
       "      <td>45.283560</td>\n",
       "      <td>7.854067</td>\n",
       "      <td>0.215320</td>\n",
       "    </tr>\n",
       "    <tr>\n",
       "      <th>min</th>\n",
       "      <td>67.000000</td>\n",
       "      <td>0.080000</td>\n",
       "      <td>0.000000</td>\n",
       "      <td>0.000000</td>\n",
       "      <td>55.120000</td>\n",
       "      <td>10.300000</td>\n",
       "      <td>0.000000</td>\n",
       "    </tr>\n",
       "    <tr>\n",
       "      <th>25%</th>\n",
       "      <td>17741.250000</td>\n",
       "      <td>25.000000</td>\n",
       "      <td>0.000000</td>\n",
       "      <td>0.000000</td>\n",
       "      <td>77.245000</td>\n",
       "      <td>23.500000</td>\n",
       "      <td>0.000000</td>\n",
       "    </tr>\n",
       "    <tr>\n",
       "      <th>50%</th>\n",
       "      <td>36932.000000</td>\n",
       "      <td>45.000000</td>\n",
       "      <td>0.000000</td>\n",
       "      <td>0.000000</td>\n",
       "      <td>91.885000</td>\n",
       "      <td>28.100000</td>\n",
       "      <td>0.000000</td>\n",
       "    </tr>\n",
       "    <tr>\n",
       "      <th>75%</th>\n",
       "      <td>54682.000000</td>\n",
       "      <td>61.000000</td>\n",
       "      <td>0.000000</td>\n",
       "      <td>0.000000</td>\n",
       "      <td>114.090000</td>\n",
       "      <td>33.100000</td>\n",
       "      <td>0.000000</td>\n",
       "    </tr>\n",
       "    <tr>\n",
       "      <th>max</th>\n",
       "      <td>72940.000000</td>\n",
       "      <td>82.000000</td>\n",
       "      <td>1.000000</td>\n",
       "      <td>1.000000</td>\n",
       "      <td>271.740000</td>\n",
       "      <td>97.600000</td>\n",
       "      <td>1.000000</td>\n",
       "    </tr>\n",
       "  </tbody>\n",
       "</table>\n",
       "</div>"
      ],
      "text/plain": [
       "                 id          age  hypertension  heart_disease  \\\n",
       "count   5110.000000  5110.000000   5110.000000    5110.000000   \n",
       "mean   36517.829354    43.226614      0.097456       0.054012   \n",
       "std    21161.721625    22.612647      0.296607       0.226063   \n",
       "min       67.000000     0.080000      0.000000       0.000000   \n",
       "25%    17741.250000    25.000000      0.000000       0.000000   \n",
       "50%    36932.000000    45.000000      0.000000       0.000000   \n",
       "75%    54682.000000    61.000000      0.000000       0.000000   \n",
       "max    72940.000000    82.000000      1.000000       1.000000   \n",
       "\n",
       "       avg_glucose_level          bmi       stroke  \n",
       "count        5110.000000  4909.000000  5110.000000  \n",
       "mean          106.147677    28.893237     0.048728  \n",
       "std            45.283560     7.854067     0.215320  \n",
       "min            55.120000    10.300000     0.000000  \n",
       "25%            77.245000    23.500000     0.000000  \n",
       "50%            91.885000    28.100000     0.000000  \n",
       "75%           114.090000    33.100000     0.000000  \n",
       "max           271.740000    97.600000     1.000000  "
      ]
     },
     "execution_count": 8,
     "metadata": {},
     "output_type": "execute_result"
    }
   ],
   "source": [
    "df.describe()"
   ]
  },
  {
   "cell_type": "code",
   "execution_count": 9,
   "metadata": {
    "execution": {
     "iopub.status.busy": "2022-06-22T06:44:09.953517Z",
     "iopub.status.idle": "2022-06-22T06:44:09.954576Z",
     "shell.execute_reply": "2022-06-22T06:44:09.954334Z",
     "shell.execute_reply.started": "2022-06-22T06:44:09.954305Z"
    }
   },
   "outputs": [],
   "source": [
    "data = df.copy()"
   ]
  },
  {
   "cell_type": "code",
   "execution_count": 10,
   "metadata": {
    "execution": {
     "iopub.status.busy": "2022-06-22T06:44:09.955977Z",
     "iopub.status.idle": "2022-06-22T06:44:09.956858Z",
     "shell.execute_reply": "2022-06-22T06:44:09.956557Z",
     "shell.execute_reply.started": "2022-06-22T06:44:09.956526Z"
    }
   },
   "outputs": [],
   "source": [
    "# data.bmi.fillna(data.bmi.median(), inplace = True)\n",
    "data.dropna(inplace = True)\n",
    "data = data[data['gender']!=\"Other\"]"
   ]
  },
  {
   "cell_type": "code",
   "execution_count": 11,
   "metadata": {
    "execution": {
     "iopub.status.busy": "2022-06-22T06:44:09.958214Z",
     "iopub.status.idle": "2022-06-22T06:44:09.958962Z",
     "shell.execute_reply": "2022-06-22T06:44:09.958686Z",
     "shell.execute_reply.started": "2022-06-22T06:44:09.958657Z"
    }
   },
   "outputs": [],
   "source": [
    "data['age/bmi'] = data['age']/data['bmi']\n",
    "data['age*bmi'] = data['age']*data['bmi']"
   ]
  },
  {
   "cell_type": "code",
   "execution_count": 12,
   "metadata": {
    "execution": {
     "iopub.status.busy": "2022-06-22T06:44:09.960333Z",
     "iopub.status.idle": "2022-06-22T06:44:09.961105Z",
     "shell.execute_reply": "2022-06-22T06:44:09.960852Z",
     "shell.execute_reply.started": "2022-06-22T06:44:09.960820Z"
    }
   },
   "outputs": [
    {
     "data": {
      "text/plain": [
       "(4908, 14)"
      ]
     },
     "execution_count": 12,
     "metadata": {},
     "output_type": "execute_result"
    }
   ],
   "source": [
    "data.shape"
   ]
  },
  {
   "cell_type": "code",
   "execution_count": 13,
   "metadata": {
    "execution": {
     "iopub.status.busy": "2022-06-22T06:44:09.962476Z",
     "iopub.status.idle": "2022-06-22T06:44:09.963218Z",
     "shell.execute_reply": "2022-06-22T06:44:09.962975Z",
     "shell.execute_reply.started": "2022-06-22T06:44:09.962946Z"
    }
   },
   "outputs": [],
   "source": [
    "X, y = data.drop(['id', 'stroke'], axis = 1), data.stroke"
   ]
  },
  {
   "cell_type": "code",
   "execution_count": 14,
   "metadata": {
    "execution": {
     "iopub.status.busy": "2022-06-22T06:44:09.965039Z",
     "iopub.status.idle": "2022-06-22T06:44:09.966333Z",
     "shell.execute_reply": "2022-06-22T06:44:09.966077Z",
     "shell.execute_reply.started": "2022-06-22T06:44:09.966045Z"
    }
   },
   "outputs": [],
   "source": [
    "X_oh = pd.get_dummies(X)"
   ]
  },
  {
   "cell_type": "code",
   "execution_count": 15,
   "metadata": {
    "execution": {
     "iopub.status.busy": "2022-06-22T06:44:09.967482Z",
     "iopub.status.idle": "2022-06-22T06:44:09.968548Z",
     "shell.execute_reply": "2022-06-22T06:44:09.968287Z",
     "shell.execute_reply.started": "2022-06-22T06:44:09.968255Z"
    }
   },
   "outputs": [],
   "source": [
    "from imblearn.over_sampling import BorderlineSMOTE\n",
    "sm = BorderlineSMOTE(random_state=123)\n",
    "X_sm , y_sm = sm.fit_resample(X_oh,y)"
   ]
  },
  {
   "cell_type": "code",
   "execution_count": 16,
   "metadata": {
    "execution": {
     "iopub.status.busy": "2022-06-22T06:44:09.969931Z",
     "iopub.status.idle": "2022-06-22T06:44:09.971027Z",
     "shell.execute_reply": "2022-06-22T06:44:09.970749Z",
     "shell.execute_reply.started": "2022-06-22T06:44:09.970717Z"
    }
   },
   "outputs": [],
   "source": [
    "X_train, X_val, y_train, y_val =  train_test_split(X_sm, y_sm, stratify = y_sm, random_state = 777)"
   ]
  },
  {
   "cell_type": "code",
   "execution_count": 17,
   "metadata": {},
   "outputs": [
    {
     "data": {
      "text/plain": [
       "Index(['age', 'hypertension', 'heart_disease', 'avg_glucose_level', 'bmi',\n",
       "       'age/bmi', 'age*bmi', 'gender_Female', 'gender_Male', 'ever_married_No',\n",
       "       'ever_married_Yes', 'work_type_Govt_job', 'work_type_Never_worked',\n",
       "       'work_type_Private', 'work_type_Self-employed', 'work_type_children',\n",
       "       'Residence_type_Rural', 'Residence_type_Urban',\n",
       "       'smoking_status_Unknown', 'smoking_status_formerly smoked',\n",
       "       'smoking_status_never smoked', 'smoking_status_smokes'],\n",
       "      dtype='object')"
      ]
     },
     "execution_count": 17,
     "metadata": {},
     "output_type": "execute_result"
    }
   ],
   "source": [
    "X_train.columns"
   ]
  },
  {
   "cell_type": "code",
   "execution_count": 18,
   "metadata": {
    "execution": {
     "iopub.status.busy": "2022-06-22T06:44:09.972333Z",
     "iopub.status.idle": "2022-06-22T06:44:10.092659Z",
     "shell.execute_reply": "2022-06-22T06:44:09.972634Z",
     "shell.execute_reply.started": "2022-06-22T06:44:09.972608Z"
    }
   },
   "outputs": [],
   "source": [
    "scaler = StandardScaler()\n",
    "histgradient = HistGradientBoostingClassifier(random_state=0)\n",
    "logistic = LogisticRegression(random_state=0)\n",
    "randomforest = RandomForestClassifier(random_state = 0)"
   ]
  },
  {
   "cell_type": "code",
   "execution_count": 19,
   "metadata": {
    "execution": {
     "iopub.status.busy": "2022-06-22T06:44:10.093737Z",
     "iopub.status.idle": "2022-06-22T06:44:10.094199Z",
     "shell.execute_reply": "2022-06-22T06:44:10.094027Z",
     "shell.execute_reply.started": "2022-06-22T06:44:10.094007Z"
    }
   },
   "outputs": [
    {
     "name": "stdout",
     "output_type": "stream",
     "text": [
      "Balanced accuracy mean +/- std. dev.: 0.973 +/- 0.003\n",
      "Balanced accuracy mean +/- std. dev.: 0.975 +/- 0.001\n"
     ]
    }
   ],
   "source": [
    "from imblearn.pipeline import Pipeline\n",
    "histgradientmodel = Pipeline(\n",
    "    steps = [\n",
    "        (\"scaler\", scaler),\n",
    "        (\"classifier\", histgradient)\n",
    "    ]\n",
    ")\n",
    "cv_results = cross_validate(\n",
    "    histgradientmodel, X_train, y_train, scoring=\"balanced_accuracy\",\n",
    "    return_train_score=True, return_estimator=True,\n",
    "    n_jobs=-1\n",
    ")\n",
    "print(\n",
    "    f\"Balanced accuracy mean +/- std. dev.: \"\n",
    "    f\"{cv_results['test_score'].mean():.3f} +/- \"\n",
    "    f\"{cv_results['test_score'].std():.3f}\"\n",
    ")\n",
    "\n",
    "scores = []\n",
    "for fold_id, cv_model in enumerate(cv_results[\"estimator\"]):\n",
    "    scores.append(\n",
    "        balanced_accuracy_score(\n",
    "            y_val, cv_model.predict(X_val)\n",
    "        )\n",
    "    )\n",
    "print(\n",
    "    f\"Balanced accuracy mean +/- std. dev.: \"\n",
    "    f\"{np.mean(scores):.3f} +/- {np.std(scores):.3f}\"\n",
    ")"
   ]
  },
  {
   "cell_type": "code",
   "execution_count": 20,
   "metadata": {
    "execution": {
     "iopub.status.busy": "2022-06-22T06:44:10.095781Z",
     "iopub.status.idle": "2022-06-22T06:44:10.096183Z",
     "shell.execute_reply": "2022-06-22T06:44:10.096034Z",
     "shell.execute_reply.started": "2022-06-22T06:44:10.096010Z"
    }
   },
   "outputs": [
    {
     "name": "stdout",
     "output_type": "stream",
     "text": [
      "Balanced accuracy mean +/- std. dev.: 0.971 +/- 0.006\n",
      "Balanced accuracy mean +/- std. dev.: 0.972 +/- 0.000\n"
     ]
    }
   ],
   "source": [
    "logisticmodel = Pipeline(\n",
    "    steps = [\n",
    "        (\"scaler\", scaler),\n",
    "        (\"classifier\", logistic)\n",
    "    ]\n",
    ")\n",
    "cv_results = cross_validate(\n",
    "    logisticmodel, X_train, y_train, scoring=\"balanced_accuracy\",\n",
    "    return_train_score=True, return_estimator=True,\n",
    "    n_jobs=-1\n",
    ")\n",
    "print(\n",
    "    f\"Balanced accuracy mean +/- std. dev.: \"\n",
    "    f\"{cv_results['test_score'].mean():.3f} +/- \"\n",
    "    f\"{cv_results['test_score'].std():.3f}\"\n",
    ")\n",
    "\n",
    "scores = []\n",
    "for fold_id, cv_model in enumerate(cv_results[\"estimator\"]):\n",
    "    scores.append(\n",
    "        balanced_accuracy_score(\n",
    "            y_val, cv_model.predict(X_val)\n",
    "        )\n",
    "    )\n",
    "print(\n",
    "    f\"Balanced accuracy mean +/- std. dev.: \"\n",
    "    f\"{np.mean(scores):.3f} +/- {np.std(scores):.3f}\"\n",
    ")"
   ]
  },
  {
   "cell_type": "code",
   "execution_count": 21,
   "metadata": {
    "execution": {
     "iopub.status.busy": "2022-06-22T06:44:10.097174Z",
     "iopub.status.idle": "2022-06-22T06:44:10.097559Z",
     "shell.execute_reply": "2022-06-22T06:44:10.097404Z",
     "shell.execute_reply.started": "2022-06-22T06:44:10.097386Z"
    }
   },
   "outputs": [
    {
     "name": "stdout",
     "output_type": "stream",
     "text": [
      "Balanced accuracy mean +/- std. dev.: 0.974 +/- 0.001\n",
      "Balanced accuracy mean +/- std. dev.: 0.974 +/- 0.002\n"
     ]
    }
   ],
   "source": [
    "RFGmodel = Pipeline(\n",
    "    steps = [\n",
    "        (\"scaler\", scaler),\n",
    "        (\"classifier\", randomforest)\n",
    "    ]\n",
    ")\n",
    "cv_results = cross_validate(\n",
    "    RFGmodel, X_train, y_train, scoring=\"balanced_accuracy\",\n",
    "    return_train_score=True, return_estimator=True,\n",
    "    n_jobs=-1\n",
    ")\n",
    "print(\n",
    "    f\"Balanced accuracy mean +/- std. dev.: \"\n",
    "    f\"{cv_results['test_score'].mean():.3f} +/- \"\n",
    "    f\"{cv_results['test_score'].std():.3f}\"\n",
    ")\n",
    "\n",
    "scores = []\n",
    "for fold_id, cv_model in enumerate(cv_results[\"estimator\"]):\n",
    "    scores.append(\n",
    "        balanced_accuracy_score(\n",
    "            y_val, cv_model.predict(X_val)\n",
    "        )\n",
    "    )\n",
    "print(\n",
    "    f\"Balanced accuracy mean +/- std. dev.: \"\n",
    "    f\"{np.mean(scores):.3f} +/- {np.std(scores):.3f}\"\n",
    ")"
   ]
  },
  {
   "cell_type": "code",
   "execution_count": 22,
   "metadata": {
    "execution": {
     "iopub.status.busy": "2022-06-22T06:44:10.100000Z",
     "iopub.status.idle": "2022-06-22T06:44:10.100382Z",
     "shell.execute_reply": "2022-06-22T06:44:10.100238Z",
     "shell.execute_reply.started": "2022-06-22T06:44:10.100220Z"
    }
   },
   "outputs": [
    {
     "name": "stdout",
     "output_type": "stream",
     "text": [
      "\n",
      "accuracy = 0.9719148936170213\n",
      "Cross-entropy = 0.9700252093889818\n",
      "Confusion_matrix = \n",
      "[[1175    0]\n",
      " [  66 1109]]\n"
     ]
    }
   ],
   "source": [
    "logisticmodel.fit(X_train, y_train)\n",
    "y_preds = logisticmodel.predict(X_val)\n",
    "print()\n",
    "scores_print(y_val, y_preds)"
   ]
  },
  {
   "cell_type": "code",
   "execution_count": 23,
   "metadata": {
    "execution": {
     "iopub.status.busy": "2022-06-22T06:44:10.102008Z",
     "iopub.status.idle": "2022-06-22T06:44:10.102379Z",
     "shell.execute_reply": "2022-06-22T06:44:10.102240Z",
     "shell.execute_reply.started": "2022-06-22T06:44:10.102222Z"
    }
   },
   "outputs": [
    {
     "name": "stdout",
     "output_type": "stream",
     "text": [
      "accuracy = 0.9757446808510638\n",
      "Cross-entropy = 0.8377538080314612\n",
      "Confusion_matrix = \n",
      "[[1161   14]\n",
      " [  43 1132]]\n"
     ]
    }
   ],
   "source": [
    "RFGmodel.fit(X_train, y_train)\n",
    "y_preds = RFGmodel.predict(X_val)\n",
    "scores_print(y_val, y_preds)"
   ]
  },
  {
   "cell_type": "code",
   "execution_count": 24,
   "metadata": {
    "execution": {
     "iopub.status.busy": "2022-06-22T06:44:10.103599Z",
     "iopub.status.idle": "2022-06-22T06:44:10.104450Z",
     "shell.execute_reply": "2022-06-22T06:44:10.104289Z",
     "shell.execute_reply.started": "2022-06-22T06:44:10.104268Z"
    }
   },
   "outputs": [
    {
     "name": "stdout",
     "output_type": "stream",
     "text": [
      "accuracy = 0.9761702127659575\n",
      "Cross-entropy = 0.8230537343402475\n",
      "Confusion_matrix = \n",
      "[[1169    6]\n",
      " [  50 1125]]\n"
     ]
    }
   ],
   "source": [
    "histgradientmodel.fit(X_train, y_train)\n",
    "y_preds = histgradientmodel.predict(X_val)\n",
    "scores_print(y_val, y_preds)"
   ]
  },
  {
   "cell_type": "code",
   "execution_count": 39,
   "metadata": {
    "execution": {
     "iopub.status.busy": "2022-06-22T06:44:10.105402Z",
     "iopub.status.idle": "2022-06-22T06:44:10.106077Z",
     "shell.execute_reply": "2022-06-22T06:44:10.105911Z",
     "shell.execute_reply.started": "2022-06-22T06:44:10.105890Z"
    }
   },
   "outputs": [
    {
     "name": "stdout",
     "output_type": "stream",
     "text": [
      "accuracy = 0.9748936170212766\n",
      "Cross-entropy = 0.8671451088040226\n",
      "Confusion_matrix = \n",
      "[[1171    4]\n",
      " [  55 1120]]\n"
     ]
    }
   ],
   "source": [
    "from sklearn.ensemble import VotingClassifier\n",
    "vc = VotingClassifier(estimators = [\n",
    "    ('logistic', logisticmodel), ('random forest', RFGmodel), ('histgradient', histgradientmodel)\n",
    "], voting=\"soft\")\n",
    "vc.fit(X_train.values, y_train)\n",
    "y_preds = vc.predict(X_val.values)\n",
    "scores_print(y_val, y_preds)"
   ]
  },
  {
   "cell_type": "code",
   "execution_count": 40,
   "metadata": {
    "execution": {
     "iopub.status.busy": "2022-06-22T06:44:10.106887Z",
     "iopub.status.idle": "2022-06-22T06:44:10.107220Z",
     "shell.execute_reply": "2022-06-22T06:44:10.107084Z",
     "shell.execute_reply.started": "2022-06-22T06:44:10.107068Z"
    }
   },
   "outputs": [],
   "source": [
    "import pickle\n",
    "with open('Stroke_Prediction.pickle', 'wb') as  f:\n",
    "    pickle.dump(vc, f)"
   ]
  },
  {
   "cell_type": "code",
   "execution_count": 37,
   "metadata": {
    "execution": {
     "iopub.status.busy": "2022-06-22T06:44:10.108886Z",
     "iopub.status.idle": "2022-06-22T06:44:10.109249Z",
     "shell.execute_reply": "2022-06-22T06:44:10.109109Z",
     "shell.execute_reply.started": "2022-06-22T06:44:10.109091Z"
    }
   },
   "outputs": [],
   "source": [
    "import json\n",
    "columns = {\n",
    "    'data_columns': [col.lower() for col in X_oh.columns]\n",
    "}\n",
    "with open('columns.json', 'w') as f:\n",
    "    f.write(json.dumps(columns))"
   ]
  },
  {
   "cell_type": "code",
   "execution_count": 34,
   "metadata": {},
   "outputs": [
    {
     "name": "stdout",
     "output_type": "stream",
     "text": [
      "0: age\n",
      "1: hypertension\n",
      "2: heart_disease\n",
      "3: avg_glucose_level\n",
      "4: bmi\n",
      "5: age/bmi\n",
      "6: age*bmi\n",
      "7: gender_female\n",
      "8: gender_male\n",
      "9: ever_married_no\n",
      "10: ever_married_yes\n",
      "11: work_type_govt_job\n",
      "12: work_type_never_worked\n",
      "13: work_type_private\n",
      "14: work_type_self-employed\n",
      "15: work_type_children\n",
      "16: residence_type_rural\n",
      "17: residence_type_urban\n",
      "18: smoking_status_unknown\n",
      "19: smoking_status_formerly smoked\n",
      "20: smoking_status_never smoked\n",
      "21: smoking_status_smokes\n"
     ]
    }
   ],
   "source": [
    "for i, j in enumerate(columns['data_columns']):\n",
    "    print(f'{i}: {j}')"
   ]
  },
  {
   "cell_type": "code",
   "execution_count": 33,
   "metadata": {},
   "outputs": [
    {
     "data": {
      "text/plain": [
       "{'data_columns': ['age',\n",
       "  'hypertension',\n",
       "  'heart_disease',\n",
       "  'avg_glucose_level',\n",
       "  'bmi',\n",
       "  'age/bmi',\n",
       "  'age*bmi',\n",
       "  'gender_female',\n",
       "  'gender_male',\n",
       "  'ever_married_no',\n",
       "  'ever_married_yes',\n",
       "  'work_type_govt_job',\n",
       "  'work_type_never_worked',\n",
       "  'work_type_private',\n",
       "  'work_type_self-employed',\n",
       "  'work_type_children',\n",
       "  'residence_type_rural',\n",
       "  'residence_type_urban',\n",
       "  'smoking_status_unknown',\n",
       "  'smoking_status_formerly smoked',\n",
       "  'smoking_status_never smoked',\n",
       "  'smoking_status_smokes']}"
      ]
     },
     "execution_count": 33,
     "metadata": {},
     "output_type": "execute_result"
    }
   ],
   "source": [
    "columns"
   ]
  },
  {
   "cell_type": "code",
   "execution_count": null,
   "metadata": {},
   "outputs": [],
   "source": [
    "    "
   ]
  }
 ],
 "metadata": {
  "kernelspec": {
   "display_name": "DataScience",
   "language": "python",
   "name": "datascience"
  },
  "language_info": {
   "codemirror_mode": {
    "name": "ipython",
    "version": 3
   },
   "file_extension": ".py",
   "mimetype": "text/x-python",
   "name": "python",
   "nbconvert_exporter": "python",
   "pygments_lexer": "ipython3",
   "version": "3.8.0"
  }
 },
 "nbformat": 4,
 "nbformat_minor": 4
}
