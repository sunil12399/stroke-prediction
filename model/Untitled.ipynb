{
 "cells": [
  {
   "cell_type": "code",
   "execution_count": 6,
   "id": "7769dac5",
   "metadata": {},
   "outputs": [],
   "source": [
    "import numpy as np\n",
    "import pickle\n",
    "import os\n",
    "import json"
   ]
  },
  {
   "cell_type": "code",
   "execution_count": 34,
   "id": "3976f7e3",
   "metadata": {},
   "outputs": [
    {
     "name": "stdout",
     "output_type": "stream",
     "text": [
      "loading saved artifacts__done\n"
     ]
    }
   ],
   "source": [
    "path = os.getcwd()\n",
    "with open(path + \"//columns.json\", \"r\") as f:\n",
    "    __data_columns = json.load(f)['data_columns']\n",
    "\n",
    "with open(path + \"//Stroke_Prediction.pickle\", \"rb\") as f:\n",
    "    __model = pickle.load(f)\n",
    "print(\"loading saved artifacts__done\")"
   ]
  },
  {
   "cell_type": "code",
   "execution_count": 54,
   "id": "d5221ca8",
   "metadata": {},
   "outputs": [],
   "source": [
    "def get_stroke_likelihood(age, hypertension, heart_disease, avg_glucose_level, bmi, gender, married, work_type, residence, smoking):\n",
    "    x = np.zeros(len(__data_columns))\n",
    "    x[0] = int(age)\n",
    "    x[1] = int(hypertension)\n",
    "    x[2] = heart_disease\n",
    "    x[3] = avg_glucose_level\n",
    "    x[4] = bmi\n",
    "    if gender == 1:\n",
    "        x[6] = 1\n",
    "    else:\n",
    "        x[5] = 1\n",
    "    if married == 1:\n",
    "        x[8] = 1\n",
    "    else:\n",
    "        x[7]= 1\n",
    "    if work_type == 0:\n",
    "        x[9] = 1\n",
    "    elif work_type == 1:\n",
    "        x[10] = 1\n",
    "    elif work_type == 2:\n",
    "        x[11] = 1\n",
    "    elif work_type == 3:\n",
    "        x[12] = 1\n",
    "    elif work_type == 4:\n",
    "        x[13] = 1\n",
    "    else:\n",
    "        print(\"Lafda\")\n",
    "    if residence == 1:\n",
    "        x[15] = 1\n",
    "    else:\n",
    "        x[14] = 1\n",
    "    if smoking == 0:\n",
    "        x[16] = 1\n",
    "    elif smoking == 1:\n",
    "        x[17] = 1\n",
    "    elif smoking == 2:\n",
    "        x[18] = 1\n",
    "    else:\n",
    "        x[19] = 1\n",
    "    print(__model.predict([x]))\n",
    "    return __model.predict([x]).tolist()"
   ]
  },
  {
   "cell_type": "code",
   "execution_count": 55,
   "id": "ef7f3cf4",
   "metadata": {},
   "outputs": [],
   "source": [
    "var = \"43 1 0 43 23 1 1 2 1 2\"\n",
    "l = var.split()"
   ]
  },
  {
   "cell_type": "code",
   "execution_count": 56,
   "id": "9c90a693",
   "metadata": {},
   "outputs": [
    {
     "name": "stdout",
     "output_type": "stream",
     "text": [
      "[0]\n"
     ]
    },
    {
     "data": {
      "text/plain": [
       "[0]"
      ]
     },
     "execution_count": 56,
     "metadata": {},
     "output_type": "execute_result"
    }
   ],
   "source": [
    "get_stroke_likelihood(*k)"
   ]
  },
  {
   "cell_type": "code",
   "execution_count": 38,
   "id": "43390f2d",
   "metadata": {},
   "outputs": [],
   "source": [
    "k = list(map(int, l))"
   ]
  },
  {
   "cell_type": "code",
   "execution_count": null,
   "id": "d80f4920",
   "metadata": {},
   "outputs": [],
   "source": []
  }
 ],
 "metadata": {
  "kernelspec": {
   "display_name": "DataScience",
   "language": "python",
   "name": "datascience"
  },
  "language_info": {
   "codemirror_mode": {
    "name": "ipython",
    "version": 3
   },
   "file_extension": ".py",
   "mimetype": "text/x-python",
   "name": "python",
   "nbconvert_exporter": "python",
   "pygments_lexer": "ipython3",
   "version": "3.8.0"
  }
 },
 "nbformat": 4,
 "nbformat_minor": 5
}
