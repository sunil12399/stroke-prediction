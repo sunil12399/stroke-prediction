{
 "cells": [
  {
   "cell_type": "code",
   "execution_count": 6,
   "id": "5229e987",
   "metadata": {},
   "outputs": [],
   "source": [
    "import numpy as np\n",
    "import pickle\n",
    "import os\n",
    "import json"
   ]
  },
  {
   "cell_type": "code",
   "execution_count": 7,
   "id": "33ad1d73",
   "metadata": {},
   "outputs": [
    {
     "name": "stdout",
     "output_type": "stream",
     "text": [
      "loading saved artifacts__done\n"
     ]
    }
   ],
   "source": [
    "path = os.getcwd()\n",
    "with open(path + \"//columns.json\", \"r\") as f:\n",
    "    __data_columns = json.load(f)['data_columns']\n",
    "\n",
    "with open(path + \"//Stroke_Prediction.pickle\", \"rb\") as f:\n",
    "    __model = pickle.load(f)\n",
    "print(\"loading saved artifacts__done\")"
   ]
  },
  {
   "cell_type": "code",
   "execution_count": 14,
   "id": "d319a102",
   "metadata": {},
   "outputs": [],
   "source": [
    "def get_stroke_likelihood(age, hypertension, heart_disease, avg_glucose_level, bmi, gender, married, work_type, residence, smoking):\n",
    "    x = np.zeros(len(__data_columns))\n",
    "    x[0] = age\n",
    "    x[1] = hypertension\n",
    "    x[2] = heart_disease\n",
    "    x[3] = avg_glucose_level\n",
    "    x[4] = bmi\n",
    "    if gender == 1:\n",
    "        x[6] = 1\n",
    "    else:\n",
    "        x[5] = 1\n",
    "    if married == 1:\n",
    "        x[8] = 1\n",
    "    else:\n",
    "        x[7]= 1\n",
    "    print(f\"work type -- {typeof(work_type)}\")\n",
    "    if work_type == 0:\n",
    "        x[9] = 1\n",
    "    elif work_type == 1:\n",
    "        x[10] = 1\n",
    "    elif work_type == 2:\n",
    "        x[11] = 1\n",
    "    elif work_type == 3:\n",
    "        x[12] = 1\n",
    "    elif work_type == 4:\n",
    "        x[13] = 1\n",
    "    else:\n",
    "        print(\"Lafda\")\n",
    "    if residence == 1:\n",
    "        x[15] = 1\n",
    "    else:\n",
    "        x[14] = 1\n",
    "    if smoking == 0:\n",
    "        x[16] = 1\n",
    "    elif smoking == 1:\n",
    "        x[17] = 1\n",
    "    elif smoking == 2:\n",
    "        x[18] = 1\n",
    "    else:\n",
    "        x[19] = 1\n",
    "    print(__model.predict([x]))\n",
    "    return __model.predict([x])"
   ]
  },
  {
   "cell_type": "code",
   "execution_count": 15,
   "id": "02951bbe",
   "metadata": {},
   "outputs": [],
   "source": [
    "var = \"43.0 1 0 43.0 23.0 1 1 2 1 2\"\n",
    "l = var.split()"
   ]
  },
  {
   "cell_type": "code",
   "execution_count": 16,
   "id": "94ad3d4a",
   "metadata": {},
   "outputs": [
    {
     "name": "stdout",
     "output_type": "stream",
     "text": [
      "work type -- 2\n",
      "Lafda\n",
      "[0]\n"
     ]
    },
    {
     "name": "stderr",
     "output_type": "stream",
     "text": [
      "F:\\Programs\\Envs\\DataScience\\lib\\site-packages\\sklearn\\base.py:450: UserWarning: X does not have valid feature names, but StandardScaler was fitted with feature names\n",
      "  warnings.warn(\n",
      "F:\\Programs\\Envs\\DataScience\\lib\\site-packages\\sklearn\\base.py:450: UserWarning: X does not have valid feature names, but StandardScaler was fitted with feature names\n",
      "  warnings.warn(\n",
      "F:\\Programs\\Envs\\DataScience\\lib\\site-packages\\sklearn\\base.py:450: UserWarning: X does not have valid feature names, but StandardScaler was fitted with feature names\n",
      "  warnings.warn(\n",
      "F:\\Programs\\Envs\\DataScience\\lib\\site-packages\\sklearn\\base.py:450: UserWarning: X does not have valid feature names, but StandardScaler was fitted with feature names\n",
      "  warnings.warn(\n",
      "F:\\Programs\\Envs\\DataScience\\lib\\site-packages\\sklearn\\base.py:450: UserWarning: X does not have valid feature names, but StandardScaler was fitted with feature names\n",
      "  warnings.warn(\n",
      "F:\\Programs\\Envs\\DataScience\\lib\\site-packages\\sklearn\\base.py:450: UserWarning: X does not have valid feature names, but StandardScaler was fitted with feature names\n",
      "  warnings.warn(\n"
     ]
    },
    {
     "data": {
      "text/plain": [
       "array([0], dtype=int64)"
      ]
     },
     "execution_count": 16,
     "metadata": {},
     "output_type": "execute_result"
    }
   ],
   "source": [
    "get_stroke_likelihood(*l)"
   ]
  },
  {
   "cell_type": "code",
   "execution_count": null,
   "id": "101339e2",
   "metadata": {},
   "outputs": [],
   "source": []
  }
 ],
 "metadata": {
  "kernelspec": {
   "display_name": "DataScience",
   "language": "python",
   "name": "datascience"
  },
  "language_info": {
   "codemirror_mode": {
    "name": "ipython",
    "version": 3
   },
   "file_extension": ".py",
   "mimetype": "text/x-python",
   "name": "python",
   "nbconvert_exporter": "python",
   "pygments_lexer": "ipython3",
   "version": "3.8.0"
  }
 },
 "nbformat": 4,
 "nbformat_minor": 5
}
